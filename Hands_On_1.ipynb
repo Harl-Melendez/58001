{
  "nbformat": 4,
  "nbformat_minor": 0,
  "metadata": {
    "colab": {
      "provenance": [],
      "authorship_tag": "ABX9TyNtUjNuEuiZu0AxFo3xkkUP",
      "include_colab_link": true
    },
    "kernelspec": {
      "name": "python3",
      "display_name": "Python 3"
    },
    "language_info": {
      "name": "python"
    }
  },
  "cells": [
    {
      "cell_type": "markdown",
      "metadata": {
        "id": "view-in-github",
        "colab_type": "text"
      },
      "source": [
        "<a href=\"https://colab.research.google.com/github/Harl-Melendez/OOP_58001/blob/main/Hands_On_1.ipynb\" target=\"_parent\"><img src=\"https://colab.research.google.com/assets/colab-badge.svg\" alt=\"Open In Colab\"/></a>"
      ]
    },
    {
      "cell_type": "markdown",
      "source": [
        "Hands On 1"
      ],
      "metadata": {
        "id": "tgyhBvIdJ_Wa"
      }
    },
    {
      "cell_type": "code",
      "execution_count": 2,
      "metadata": {
        "colab": {
          "base_uri": "https://localhost:8080/"
        },
        "id": "JXaco4fkJ-kN",
        "outputId": "53ad1266-6f0a-4c2a-85de-fb040e330a8d"
      },
      "outputs": [
        {
          "output_type": "stream",
          "name": "stdout",
          "text": [
            "Student1\n",
            "Enter Prelim 87\n",
            "Enter Midterm 90\n",
            "Enter Finals 67\n",
            "Student2\n",
            "Enter Prelim 96\n",
            "Enter Midterm 78\n",
            "Enter Finals 77\n",
            "Student3\n",
            "Enter Prelim 69\n",
            "Enter Midterm 82\n",
            "Enter Finals 70\n",
            "Information about student's grade must be hidden from others\n",
            "Student 1 have 87 for prelims, 90 for midterms, and 67 for finals with an average of 81.33333333333333\n",
            "Student 2 have 96 for prelims, 78 for midterms, and 77 for finals with an average of 83.66666666666667\n",
            "Student 3 have 69 for prelims, 82 for midterms, and 70 for finals with an average of 73.66666666666667\n"
          ]
        }
      ],
      "source": [
        "class Person:\n",
        "  def __init__(self,student):\n",
        "    self.student = student\n",
        "    import random\n",
        "    self.__pre = int(input(\"Enter Prelim \"))\n",
        "    self.__mid = int(input(\"Enter Midterm \"))\n",
        "    self.__fin = int(input(\"Enter Finals \"))\n",
        "  def Grade(self):\n",
        "    return (self.__pre+self.__mid+self.__fin)/3\n",
        "  def display(self):\n",
        "    print(f\"{self.student} have {self.__pre} for prelims, {self.__mid} for midterms, and {self.__fin} for finals with an average of {self.Grade()}\")\n",
        "\n",
        "class std1(Person):\n",
        "  def __init__(self):\n",
        "    print(\"Student1\")\n",
        "    super().__init__(\"Student 1\")\n",
        "    \n",
        "class std2(Person):\n",
        "  def __init__(self):\n",
        "    print(\"Student2\")\n",
        "    super().__init__(\"Student 2\")\n",
        "    \n",
        "class std3(Person):\n",
        "  def __init__(self):\n",
        "    print(\"Student3\")\n",
        "    super().__init__(\"Student 3\")\n",
        "    \n",
        "    print(\"Information about student's grade must be hidden from others\")\n",
        "\n",
        "Std1 = std1()\n",
        "Std2 = std2()\n",
        "Std3 = std3()\n",
        "\n",
        "Std1.display()\n",
        "Std2.display()\n",
        "Std3.display()"
      ]
    }
  ]
}