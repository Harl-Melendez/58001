{
  "nbformat": 4,
  "nbformat_minor": 0,
  "metadata": {
    "colab": {
      "provenance": [],
      "authorship_tag": "ABX9TyNKBgWaWMO2TzF+b42JN7Qo",
      "include_colab_link": true
    },
    "kernelspec": {
      "name": "python3",
      "display_name": "Python 3"
    },
    "language_info": {
      "name": "python"
    }
  },
  "cells": [
    {
      "cell_type": "markdown",
      "metadata": {
        "id": "view-in-github",
        "colab_type": "text"
      },
      "source": [
        "<a href=\"https://colab.research.google.com/github/Harl-Melendez/OOP_58001/blob/main/Concepts_in_oop.ipynb\" target=\"_parent\"><img src=\"https://colab.research.google.com/assets/colab-badge.svg\" alt=\"Open In Colab\"/></a>"
      ]
    },
    {
      "cell_type": "markdown",
      "source": [
        "Activity"
      ],
      "metadata": {
        "id": "KsijOtUAt25B"
      }
    },
    {
      "cell_type": "code",
      "execution_count": 4,
      "metadata": {
        "colab": {
          "base_uri": "https://localhost:8080/"
        },
        "id": "8t_brYS8osK7",
        "outputId": "2fdd6d63-4208-4196-d8fd-c8688f064398"
      },
      "outputs": [
        {
          "output_type": "stream",
          "name": "stdout",
          "text": [
            "Fullname: Harl Stephen K. Melendez\n",
            "Student number: 202214303\n",
            "School: Adamson University\n"
          ]
        }
      ],
      "source": [
        "class Student:\n",
        "    def __init__(self, Fullname, Student_number, school):\n",
        "        self.Fullname = Fullname\n",
        "        self.Student_number = Student_number\n",
        "        self.school = school\n",
        "    \n",
        "    def display_attri(self):\n",
        "        print(\"Fullname:\", self.Fullname)\n",
        "        print(\"Student number:\", self.Student_number)\n",
        "        print(\"School:\", self.school)\n",
        "\n",
        "student = Student(\"Harl Stephen K. Melendez\", 202214303, \"Adamson University\")\n",
        "student.display_attri()"
      ]
    }
  ]
}