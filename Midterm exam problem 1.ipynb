{
  "nbformat": 4,
  "nbformat_minor": 0,
  "metadata": {
    "colab": {
      "provenance": [],
      "authorship_tag": "ABX9TyM84EKvxUmX9NS/Aeezvq9i",
      "include_colab_link": true
    },
    "kernelspec": {
      "name": "python3",
      "display_name": "Python 3"
    },
    "language_info": {
      "name": "python"
    }
  },
  "cells": [
    {
      "cell_type": "markdown",
      "metadata": {
        "id": "view-in-github",
        "colab_type": "text"
      },
      "source": [
        "<a href=\"https://colab.research.google.com/github/Harl-Melendez/OOP_58001/blob/main/Midterm%20exam%20problem%201.ipynb\" target=\"_parent\"><img src=\"https://colab.research.google.com/assets/colab-badge.svg\" alt=\"Open In Colab\"/></a>"
      ]
    },
    {
      "cell_type": "code",
      "execution_count": 20,
      "metadata": {
        "colab": {
          "base_uri": "https://localhost:8080/"
        },
        "id": "0gU2zikhHkMT",
        "outputId": "db0d4d8f-1308-4ac5-b4dd-014559430163"
      },
      "outputs": [
        {
          "output_type": "stream",
          "name": "stdout",
          "text": [
            "Enter the radius of the circle: 2\n",
            "The area of the circle is: 12.56\n",
            "The perimeter of the circle is: 12.56\n"
          ]
        }
      ],
      "source": [
        "class Circle:\n",
        "    def __init__(self, radius=None, diameter=None):\n",
        "        if radius:\n",
        "            self.radius = radius\n",
        "        elif diameter:\n",
        "            self.radius = diameter / 2\n",
        "        else:\n",
        "            raise ValueError(\"Either radius or diameter must be provided\")\n",
        "            \n",
        "    def area(self):\n",
        "        return 3.14 * self.radius ** 2\n",
        "    \n",
        "    def peri(self):\n",
        "        return 2 * 3.14 * self.radius\n",
        "\n",
        "r = float(input(\"Enter the radius of the circle: \"))\n",
        "c = Circle(radius=r)\n",
        "print(\"The area of the circle is:\", c.area())\n",
        "print(\"The perimeter of the circle is:\", c.peri())\n"
      ]
    }
  ]
}