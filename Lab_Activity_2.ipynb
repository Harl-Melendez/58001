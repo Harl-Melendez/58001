{
  "nbformat": 4,
  "nbformat_minor": 0,
  "metadata": {
    "colab": {
      "provenance": [],
      "authorship_tag": "ABX9TyNX6TpHtIseBEqWHSR82Slh",
      "include_colab_link": true
    },
    "kernelspec": {
      "name": "python3",
      "display_name": "Python 3"
    },
    "language_info": {
      "name": "python"
    }
  },
  "cells": [
    {
      "cell_type": "markdown",
      "metadata": {
        "id": "view-in-github",
        "colab_type": "text"
      },
      "source": [
        "<a href=\"https://colab.research.google.com/github/Harl-Melendez/OOP_58001/blob/main/Lab_Activity_2.ipynb\" target=\"_parent\"><img src=\"https://colab.research.google.com/assets/colab-badge.svg\" alt=\"Open In Colab\"/></a>"
      ]
    },
    {
      "cell_type": "markdown",
      "source": [
        "Laboratory No. 2"
      ],
      "metadata": {
        "id": "7VHmcYguCbVs"
      }
    },
    {
      "cell_type": "code",
      "execution_count": 31,
      "metadata": {
        "colab": {
          "base_uri": "https://localhost:8080/"
        },
        "id": "Ns6alyiJ_Hpo",
        "outputId": "faf45d08-610e-4088-8e1c-4db859a865a0"
      },
      "outputs": [
        {
          "output_type": "stream",
          "name": "stdout",
          "text": [
            "Enter the radius of the circle: 9\n",
            "Perimeter = 254.47\n",
            "area = 56.55\n"
          ]
        }
      ],
      "source": [
        "class Circle:\n",
        " def __init__(self, radi, pi):\n",
        "  self.radi = radi\n",
        "  self.pi = pi\n",
        "\n",
        " def area(self):\n",
        "  return 2 * self.pi * self.radi\n",
        " def perimeter(self):\n",
        "  return self.pi * self.radi ** 2\n",
        " def result(self):\n",
        "  print(\"Perimeter =\", round(self.perimeter(), 2))\n",
        "  print(\"area =\", round(self.area(), 2))\n",
        "\n",
        "r = int(input(\"Enter the radius of the circle: \"))\n",
        "\n",
        "value = Circle(r, 3.14159265)\n",
        "value.result()"
      ]
    }
  ]
}