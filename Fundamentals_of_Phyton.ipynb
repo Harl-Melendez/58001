{
  "nbformat": 4,
  "nbformat_minor": 0,
  "metadata": {
    "colab": {
      "provenance": [],
      "authorship_tag": "ABX9TyNVBMrcoaQtJdV1og5Rc9J1",
      "include_colab_link": true
    },
    "kernelspec": {
      "name": "python3",
      "display_name": "Python 3"
    },
    "language_info": {
      "name": "python"
    }
  },
  "cells": [
    {
      "cell_type": "markdown",
      "metadata": {
        "id": "view-in-github",
        "colab_type": "text"
      },
      "source": [
        "<a href=\"https://colab.research.google.com/github/Harl-Melendez/OOP_58001/blob/main/Fundamentals_of_Phyton.ipynb\" target=\"_parent\"><img src=\"https://colab.research.google.com/assets/colab-badge.svg\" alt=\"Open In Colab\"/></a>"
      ]
    },
    {
      "cell_type": "markdown",
      "source": [
        "Indentation"
      ],
      "metadata": {
        "id": "orO3eFTrSLby"
      }
    },
    {
      "cell_type": "code",
      "execution_count": 2,
      "metadata": {
        "id": "4PE_Fc0VQFxI",
        "colab": {
          "base_uri": "https://localhost:8080/"
        },
        "outputId": "5bfae87b-57c6-45ec-a560-b02821a58f6a"
      },
      "outputs": [
        {
          "output_type": "stream",
          "name": "stdout",
          "text": [
            "5 is greater than 2\n"
          ]
        }
      ],
      "source": [
        "if 5>2:\n",
        "  print(\"5 is greater than 2\")"
      ]
    },
    {
      "cell_type": "markdown",
      "source": [
        "Phyton Comment"
      ],
      "metadata": {
        "id": "qxQzls3fSfIh"
      }
    },
    {
      "cell_type": "code",
      "source": [
        "#this is a comment\n",
        "print(\"hello, world\")"
      ],
      "metadata": {
        "colab": {
          "base_uri": "https://localhost:8080/"
        },
        "id": "HuiaTT0sSWKh",
        "outputId": "997f7b57-3701-4a74-97d8-f04512aa4ec1"
      },
      "execution_count": 3,
      "outputs": [
        {
          "output_type": "stream",
          "name": "stdout",
          "text": [
            "hello world\n"
          ]
        }
      ]
    },
    {
      "cell_type": "markdown",
      "source": [
        "Phyton variables"
      ],
      "metadata": {
        "id": "bjjpjPx9Rf_Z"
      }
    },
    {
      "cell_type": "code",
      "source": [
        "#single variable with single value\n",
        "x = 1\n",
        "#single variable with multiple values \n",
        "array = [1,2,3]\n",
        "print (array)\n",
        "\n",
        "#mulitple variables with single value\n",
        "a = b = c = \"Harl\"\n",
        "print (a)\n",
        "print (b)\n",
        "print (c)"
      ],
      "metadata": {
        "colab": {
          "base_uri": "https://localhost:8080/"
        },
        "id": "Az9MvTmrSsui",
        "outputId": "c3ce6cd6-f3d4-4bef-fab4-039acb4c401b"
      },
      "execution_count": 5,
      "outputs": [
        {
          "output_type": "stream",
          "name": "stdout",
          "text": [
            "[1, 2, 3]\n",
            "Harl\n",
            "Harl\n",
            "Harl\n"
          ]
        }
      ]
    },
    {
      "cell_type": "markdown",
      "source": [
        "Casting"
      ],
      "metadata": {
        "id": "6zmWPIo6U1ha"
      }
    },
    {
      "cell_type": "code",
      "source": [
        "n = int (4)\n",
        "print(n)"
      ],
      "metadata": {
        "colab": {
          "base_uri": "https://localhost:8080/"
        },
        "id": "3I0b6NfVU3Lh",
        "outputId": "655d4e59-6ab4-461c-8959-41b3eeb559f0"
      },
      "execution_count": 6,
      "outputs": [
        {
          "output_type": "stream",
          "name": "stdout",
          "text": [
            "4\n"
          ]
        }
      ]
    },
    {
      "cell_type": "markdown",
      "source": [
        "Type function"
      ],
      "metadata": {
        "id": "Y7l1uVjnVH7L"
      }
    },
    {
      "cell_type": "code",
      "source": [
        "c = \"Harl\"\n",
        "d = 5.6\n",
        "print (type(c))\n",
        "print (type(d))"
      ],
      "metadata": {
        "colab": {
          "base_uri": "https://localhost:8080/"
        },
        "id": "X1AZHfIXVKDK",
        "outputId": "835c78f8-8bfe-4723-c694-ff4d10cf62ed"
      },
      "execution_count": 7,
      "outputs": [
        {
          "output_type": "stream",
          "name": "stdout",
          "text": [
            "<class 'str'>\n",
            "<class 'float'>\n"
          ]
        }
      ]
    }
  ]
}