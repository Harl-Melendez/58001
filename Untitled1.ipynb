{
  "nbformat": 4,
  "nbformat_minor": 0,
  "metadata": {
    "colab": {
      "provenance": [],
      "authorship_tag": "ABX9TyPqVncnLTKT3mZsjwfJrzlA",
      "include_colab_link": true
    },
    "kernelspec": {
      "name": "python3",
      "display_name": "Python 3"
    },
    "language_info": {
      "name": "python"
    }
  },
  "cells": [
    {
      "cell_type": "markdown",
      "metadata": {
        "id": "view-in-github",
        "colab_type": "text"
      },
      "source": [
        "<a href=\"https://colab.research.google.com/github/Harl-Melendez/OOP_58001/blob/main/Untitled1.ipynb\" target=\"_parent\"><img src=\"https://colab.research.google.com/assets/colab-badge.svg\" alt=\"Open In Colab\"/></a>"
      ]
    },
    {
      "cell_type": "code",
      "execution_count": 1,
      "metadata": {
        "colab": {
          "base_uri": "https://localhost:8080/"
        },
        "id": "J7zapTdfqP1n",
        "outputId": "8bc34704-7cc7-4bce-e10a-5b737afe484f"
      },
      "outputs": [
        {
          "output_type": "stream",
          "name": "stdout",
          "text": [
            "Griffon Vulture flies above the clouds\n",
            "Common Crane flies above the clouds\n",
            "Emu is the national bird of the Philippines\n"
          ]
        }
      ],
      "source": [
        "class Birds:\n",
        "  def __init__(self,bird_name):\n",
        "    self.bird_name = bird_name\n",
        "  def flying_birds(self):\n",
        "    print(f\"{self.bird_name} flies above the clouds\")\n",
        "  def non_flying_birds(self):\n",
        "    print(f\"{self.bird_name} is the national bird of the Philippines\")\n",
        "\n",
        "vulture = Birds(\"Griffon Vulture\")\n",
        "crane = Birds(\"Common Crane\")\n",
        "emu = Birds(\"Emu\")\n",
        "\n",
        "vulture.flying_birds()\n",
        "crane.flying_birds()\n",
        "emu.non_flying_birds()"
      ]
    },
    {
      "cell_type": "markdown",
      "source": [
        "Encapsulation"
      ],
      "metadata": {
        "id": "q3uS9sBqq1AK"
      }
    },
    {
      "cell_type": "code",
      "source": [
        "class foo:\n",
        "  def __init__(self,a,b):\n",
        "    self.__a=a\n",
        "    self.__b=b\n",
        "  def add(self):\n",
        "    return self.__a+self.__b\n",
        "foo_object=foo(3,4)\n",
        "foo_object.add()\n",
        "foo_object.a = 5\n",
        "foo_object.add()"
      ],
      "metadata": {
        "colab": {
          "base_uri": "https://localhost:8080/"
        },
        "id": "Rluj_tYYq27M",
        "outputId": "a2abffb6-6b83-47e6-de78-75ee5e0ce00f"
      },
      "execution_count": 2,
      "outputs": [
        {
          "output_type": "execute_result",
          "data": {
            "text/plain": [
              "7"
            ]
          },
          "metadata": {},
          "execution_count": 2
        }
      ]
    },
    {
      "cell_type": "code",
      "source": [
        "class Counter:\n",
        "  def __init__(self):\n",
        "    self.current=0\n",
        "  def increment(self):\n",
        "    self.current +=1\n",
        "  def value(self):\n",
        "    return self.current\n",
        "  def reset(self):\n",
        "    self.current=0\n",
        "counter=Counter()\n",
        "counter.increment\n",
        "counter.value()\n",
        "counter.reset()\n",
        "counter.value()"
      ],
      "metadata": {
        "colab": {
          "base_uri": "https://localhost:8080/"
        },
        "id": "6TvsekhbrKML",
        "outputId": "30a46f10-bacb-45ad-eaec-6ca15956f53a"
      },
      "execution_count": 4,
      "outputs": [
        {
          "output_type": "execute_result",
          "data": {
            "text/plain": [
              "0"
            ]
          },
          "metadata": {},
          "execution_count": 4
        }
      ]
    },
    {
      "cell_type": "markdown",
      "source": [
        "Inheritance"
      ],
      "metadata": {
        "id": "MossTIVTrXIU"
      }
    },
    {
      "cell_type": "code",
      "source": [
        "class Person:\n",
        "  def __init__(self,name,birthdate):\n",
        "    self.name=name\n",
        "    self.birthdate=birthdate\n",
        "  def display(self):\n",
        "    print(f\"My name is\", self.name)\n",
        "    print(f\"My birthdate is\", self.birthdate)\n",
        "class Student(Person):\n",
        "  pass\n",
        "class Teacher(Person):\n",
        "  pass\n",
        "student = Student(\"Harl Stephen K. Melendez\",\"October 13, 2004\")\n",
        "student.display()\n",
        "teacher = Teacher(\"Kentoy\",\"December 25, 1993\")\n",
        "teacher.display()"
      ],
      "metadata": {
        "colab": {
          "base_uri": "https://localhost:8080/"
        },
        "id": "w__ZhjcRrVMJ",
        "outputId": "81ddb2c1-fc3c-4fc6-a7a8-ff581e12ccff"
      },
      "execution_count": 7,
      "outputs": [
        {
          "output_type": "stream",
          "name": "stdout",
          "text": [
            "My name is Harl Stephen K. Melendez\n",
            "My birthdate is October 13, 2004\n",
            "My name is Kentoy\n",
            "My birthdate is December 25, 1993\n"
          ]
        }
      ]
    },
    {
      "cell_type": "markdown",
      "source": [
        "Inheritance and Encapsulation"
      ],
      "metadata": {
        "id": "nEAXeEpLsYFt"
      }
    },
    {
      "cell_type": "code",
      "source": [
        "\n",
        "class shapes:\n",
        "  def __init__(self, side, Shapes):\n",
        "    self.__side = side\n",
        "    self.__Shapes = Shapes\n",
        "  def display(self):\n",
        "    print(f\"The {self.__Shapes}\")\n",
        "    print(f\"has {self.__side} sides.\")\n",
        "\n",
        "class Triangle(shapes):\n",
        "  pass\n",
        "\n",
        "class Square(shapes):\n",
        "  pass\n",
        "\n",
        "class Pentagon(shapes):\n",
        "  pass\n",
        "\n",
        "class Hexagon(shapes):\n",
        "  pass\n",
        "\n",
        "\n",
        "class Heptagon(shapes):\n",
        "  pass\n",
        "\n",
        "triangle = Triangle(3, \"triangle\")\n",
        "triangle.side = 0\n",
        "triangle.display()\n",
        "square = Square(4, \"square\")\n",
        "square.side = 0\n",
        "square.display()\n",
        "pentagon = Pentagon(5, \"pentagon\")\n",
        "pentagon.side = 0\n",
        "pentagon.display()\n",
        "hexagon = Hexagon(6, \"hexagon\")\n",
        "hexagon.side = 0\n",
        "hexagon.display()\n",
        "heptagon = Heptagon(7, \"heptagon\")\n",
        "heptagon.side = 0\n",
        "heptagon.display()"
      ],
      "metadata": {
        "colab": {
          "base_uri": "https://localhost:8080/"
        },
        "id": "4EMYwgbZr-KR",
        "outputId": "7840ef78-581d-43b1-c71f-267d328ffe24"
      },
      "execution_count": 8,
      "outputs": [
        {
          "output_type": "stream",
          "name": "stdout",
          "text": [
            "The triangle\n",
            "has 3 sides.\n",
            "The square\n",
            "has 4 sides.\n",
            "The pentagon\n",
            "has 5 sides.\n",
            "The hexagon\n",
            "has 6 sides.\n",
            "The heptagon\n",
            "has 7 sides.\n"
          ]
        }
      ]
    }
  ]
}